{
 "cells": [
  {
   "cell_type": "code",
   "execution_count": 19,
   "metadata": {},
   "outputs": [
    {
     "name": "stdout",
     "output_type": "stream",
     "text": [
      "Requirement already satisfied: pandas in c:\\users\\mikdr\\appdata\\local\\programs\\python\\python39\\lib\\site-packages (2.1.4)Note: you may need to restart the kernel to use updated packages.\n",
      "\n",
      "Requirement already satisfied: numpy<2,>=1.22.4 in c:\\users\\mikdr\\appdata\\local\\programs\\python\\python39\\lib\\site-packages (from pandas) (1.24.1)\n",
      "Requirement already satisfied: python-dateutil>=2.8.2 in c:\\users\\mikdr\\appdata\\roaming\\python\\python39\\site-packages (from pandas) (2.8.2)\n",
      "Requirement already satisfied: pytz>=2020.1 in c:\\users\\mikdr\\appdata\\local\\programs\\python\\python39\\lib\\site-packages (from pandas) (2023.3.post1)\n",
      "Requirement already satisfied: tzdata>=2022.1 in c:\\users\\mikdr\\appdata\\local\\programs\\python\\python39\\lib\\site-packages (from pandas) (2023.3)\n",
      "Requirement already satisfied: six>=1.5 in c:\\users\\mikdr\\appdata\\roaming\\python\\python39\\site-packages (from python-dateutil>=2.8.2->pandas) (1.16.0)\n"
     ]
    }
   ],
   "source": [
    "%pip install pandas\n",
    "import pandas as pd\n",
    "import os as os"
   ]
  },
  {
   "cell_type": "code",
   "execution_count": 20,
   "metadata": {},
   "outputs": [
    {
     "name": "stdout",
     "output_type": "stream",
     "text": [
      "Il file csv\\appearances.csv esiste.\n",
      "Il file csv\\clubs.csv esiste.\n",
      "Il file csv\\club_games.csv esiste.\n",
      "Il file csv\\competitions.csv esiste.\n",
      "Il file csv\\games.csv esiste.\n",
      "Il file csv\\game_events.csv esiste.\n",
      "Il file csv\\game_lineups.csv esiste.\n",
      "Il file csv\\players.csv esiste.\n",
      "Il file csv\\player_valuations.csv esiste.\n"
     ]
    }
   ],
   "source": [
    "percorso_csv = r\"csv\"\n",
    "\n",
    "if os.path.exists(percorso_csv):\n",
    "    for file in os.listdir(percorso_csv):\n",
    "        percorso_csv_file = os.path.join(percorso_csv, file)\n",
    "        print(f\"Il file {percorso_csv_file} esiste.\")\n",
    "else:\n",
    "    print(f\"Il file {percorso_csv_file} non è stato trovato.\")"
   ]
  },
  {
   "cell_type": "code",
   "execution_count": 21,
   "metadata": {},
   "outputs": [
    {
     "name": "stderr",
     "output_type": "stream",
     "text": [
      "C:\\Users\\mikdr\\AppData\\Local\\Temp\\ipykernel_16408\\1344331387.py:6: DtypeWarning: Columns (4) have mixed types. Specify dtype option on import or set low_memory=False.\n",
      "  df_game_lineups = pd.read_csv(percorso_csv + \"/game_lineups.csv\")\n"
     ]
    }
   ],
   "source": [
    "df_appearances = pd.read_csv(percorso_csv + \"/appearances.csv\")\n",
    "df_club_games = pd.read_csv(percorso_csv + \"/club_games.csv\")\n",
    "df_clubs = pd.read_csv(percorso_csv + \"/clubs.csv\")\n",
    "df_competitions = pd.read_csv(percorso_csv + \"/competitions.csv\")\n",
    "df_game_events = pd.read_csv(percorso_csv + \"/game_events.csv\")\n",
    "df_game_lineups = pd.read_csv(percorso_csv + \"/game_lineups.csv\")\n",
    "df_games = pd.read_csv(percorso_csv + \"/games.csv\")\n",
    "df_player_valuations = pd.read_csv(percorso_csv + \"/player_valuations.csv\")\n",
    "df_players = pd.read_csv(percorso_csv + \"/players.csv\")\n"
   ]
  },
  {
   "cell_type": "code",
   "execution_count": 16,
   "metadata": {},
   "outputs": [
    {
     "name": "stdout",
     "output_type": "stream",
     "text": [
      "       player_id first_name          last_name                        name  \\\n",
      "0             10   Miroslav              Klose              Miroslav Klose   \n",
      "1             26      Roman       Weidenfeller          Roman Weidenfeller   \n",
      "2             65    Dimitar           Berbatov            Dimitar Berbatov   \n",
      "3             77        NaN              Lúcio                       Lúcio   \n",
      "4             80        Tom             Starke                  Tom Starke   \n",
      "...          ...        ...                ...                         ...   \n",
      "30329    1163778     Kahveh       Zahiroleslam         Kahveh Zahiroleslam   \n",
      "30330    1166093   Georgios  Konstantakopoulos  Georgios Konstantakopoulos   \n",
      "30331    1173042      Djibi               Seck                  Djibi Seck   \n",
      "30332    1176345  Mahamadou             Nagida            Mahamadou Nagida   \n",
      "30333    1186012     Bakary            Haidara              Bakary Haidara   \n",
      "\n",
      "       last_season  current_club_id                 player_code  \\\n",
      "0             2015              398              miroslav-klose   \n",
      "1             2017               16          roman-weidenfeller   \n",
      "2             2015             1091            dimitar-berbatov   \n",
      "3             2012              506                       lucio   \n",
      "4             2017               27                  tom-starke   \n",
      "...            ...              ...                         ...   \n",
      "30329         2023              475         kahveh-zahiroleslam   \n",
      "30330         2023            30120  georgios-konstantakopoulos   \n",
      "30331         2023              601                  djibi-seck   \n",
      "30332         2023              273            mahamadou-nagida   \n",
      "30333         2023              968              bakary-haidara   \n",
      "\n",
      "         country_of_birth         city_of_birth country_of_citizenship  ...  \\\n",
      "0                  Poland                 Opole                Germany  ...   \n",
      "1                 Germany                  Diez                Germany  ...   \n",
      "2                Bulgaria           Blagoevgrad               Bulgaria  ...   \n",
      "3                  Brazil              Brasília                 Brazil  ...   \n",
      "4      East Germany (GDR)               Freital                Germany  ...   \n",
      "...                   ...                   ...                    ...  ...   \n",
      "30329       United States  Saratoga, California          United States  ...   \n",
      "30330                 NaN                   NaN                 Greece  ...   \n",
      "30331                 NaN                   NaN                Senegal  ...   \n",
      "30332            Cameroon                Douala               Cameroon  ...   \n",
      "30333                 NaN                   NaN          Cote d'Ivoire  ...   \n",
      "\n",
      "        foot height_in_cm contract_expiration_date            agent_name  \\\n",
      "0      right        184.0                      NaN  ASBW Sport Marketing   \n",
      "1       left        190.0                      NaN      Neubauer 13 GmbH   \n",
      "2        NaN          NaN                      NaN       CSKA-AS-23 Ltd.   \n",
      "3        NaN          NaN                      NaN                   NaN   \n",
      "4      right        194.0                      NaN                   IFM   \n",
      "...      ...          ...                      ...                   ...   \n",
      "30329  right        193.0                      NaN                   NaN   \n",
      "30330   both        182.0      2026-06-30 00:00:00                   NaN   \n",
      "30331    NaN          NaN      2025-06-30 00:00:00                   NaN   \n",
      "30332   left        176.0      2028-06-30 00:00:00                   NaN   \n",
      "30333  right          NaN      2026-06-30 00:00:00                   NaN   \n",
      "\n",
      "                                               image_url  \\\n",
      "0      https://img.a.transfermarkt.technology/portrai...   \n",
      "1      https://img.a.transfermarkt.technology/portrai...   \n",
      "2      https://img.a.transfermarkt.technology/portrai...   \n",
      "3      https://img.a.transfermarkt.technology/portrai...   \n",
      "4      https://img.a.transfermarkt.technology/portrai...   \n",
      "...                                                  ...   \n",
      "30329  https://img.a.transfermarkt.technology/portrai...   \n",
      "30330  https://img.a.transfermarkt.technology/portrai...   \n",
      "30331  https://img.a.transfermarkt.technology/portrai...   \n",
      "30332  https://img.a.transfermarkt.technology/portrai...   \n",
      "30333  https://img.a.transfermarkt.technology/portrai...   \n",
      "\n",
      "                                                     url  \\\n",
      "0      https://www.transfermarkt.co.uk/miroslav-klose...   \n",
      "1      https://www.transfermarkt.co.uk/roman-weidenfe...   \n",
      "2      https://www.transfermarkt.co.uk/dimitar-berbat...   \n",
      "3      https://www.transfermarkt.co.uk/lucio/profil/s...   \n",
      "4      https://www.transfermarkt.co.uk/tom-starke/pro...   \n",
      "...                                                  ...   \n",
      "30329  https://www.transfermarkt.co.uk/kahveh-zahirol...   \n",
      "30330  https://www.transfermarkt.co.uk/georgios-konst...   \n",
      "30331  https://www.transfermarkt.co.uk/djibi-seck/pro...   \n",
      "30332  https://www.transfermarkt.co.uk/mahamadou-nagi...   \n",
      "30333  https://www.transfermarkt.co.uk/bakary-haidara...   \n",
      "\n",
      "      current_club_domestic_competition_id  \\\n",
      "0                                      IT1   \n",
      "1                                       L1   \n",
      "2                                      GR1   \n",
      "3                                      IT1   \n",
      "4                                       L1   \n",
      "...                                    ...   \n",
      "30329                                  BE1   \n",
      "30330                                  GR1   \n",
      "30331                                  BE1   \n",
      "30332                                  FR1   \n",
      "30333                                  BE1   \n",
      "\n",
      "                                       current_club_name market_value_in_eur  \\\n",
      "0                          Società Sportiva Lazio S.p.A.           1000000.0   \n",
      "1                                      Borussia Dortmund            750000.0   \n",
      "2      Panthessalonikios Athlitikos Omilos Konstantin...           1000000.0   \n",
      "3                                 Juventus Football Club            200000.0   \n",
      "4                                      FC Bayern München            100000.0   \n",
      "...                                                  ...                 ...   \n",
      "30329       Koninklijke Sint-Truidense Voetbalvereniging            400000.0   \n",
      "30330                           Athlitiki Enosi Kifisias            100000.0   \n",
      "30331                   Koninklijke Voetbalclub Kortrijk            150000.0   \n",
      "30332                        Stade Rennais Football Club            150000.0   \n",
      "30333                  Koninklijke Voetbal Club Westerlo            350000.0   \n",
      "\n",
      "      highest_market_value_in_eur  \n",
      "0                      30000000.0  \n",
      "1                       8000000.0  \n",
      "2                      34500000.0  \n",
      "3                      24500000.0  \n",
      "4                       3000000.0  \n",
      "...                           ...  \n",
      "30329                    400000.0  \n",
      "30330                    100000.0  \n",
      "30331                    150000.0  \n",
      "30332                    150000.0  \n",
      "30333                    350000.0  \n",
      "\n",
      "[30334 rows x 23 columns]\n",
      "Type of df_players: <class 'pandas.core.frame.DataFrame'>\n"
     ]
    }
   ],
   "source": [
    "print(df_players)\n",
    "print(\"Type of df_players is: \" + str(type(df_players)))"
   ]
  }
 ],
 "metadata": {
  "kernelspec": {
   "display_name": "Python 3",
   "language": "python",
   "name": "python3"
  },
  "language_info": {
   "codemirror_mode": {
    "name": "ipython",
    "version": 3
   },
   "file_extension": ".py",
   "mimetype": "text/x-python",
   "name": "python",
   "nbconvert_exporter": "python",
   "pygments_lexer": "ipython3",
   "version": "3.9.11"
  }
 },
 "nbformat": 4,
 "nbformat_minor": 2
}
