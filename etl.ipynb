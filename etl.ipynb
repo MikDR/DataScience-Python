{
 "cells": [
  {
   "cell_type": "code",
   "execution_count": null,
   "metadata": {},
   "outputs": [],
   "source": [
    "!python -m pip install --upgrade pip"
   ]
  },
  {
   "cell_type": "code",
   "execution_count": 3,
   "metadata": {},
   "outputs": [
    {
     "name": "stdout",
     "output_type": "stream",
     "text": [
      "Requirement already satisfied: pandas in c:\\users\\mikdr\\appdata\\local\\programs\\python\\python39\\lib\\site-packages (2.1.4)\n",
      "Requirement already satisfied: numpy<2,>=1.22.4 in c:\\users\\mikdr\\appdata\\local\\programs\\python\\python39\\lib\\site-packages (from pandas) (1.24.1)\n",
      "Requirement already satisfied: python-dateutil>=2.8.2 in c:\\users\\mikdr\\appdata\\roaming\\python\\python39\\site-packages (from pandas) (2.8.2)\n",
      "Requirement already satisfied: pytz>=2020.1 in c:\\users\\mikdr\\appdata\\local\\programs\\python\\python39\\lib\\site-packages (from pandas) (2023.3.post1)\n",
      "Requirement already satisfied: tzdata>=2022.1 in c:\\users\\mikdr\\appdata\\local\\programs\\python\\python39\\lib\\site-packages (from pandas) (2023.3)\n",
      "Requirement already satisfied: six>=1.5 in c:\\users\\mikdr\\appdata\\roaming\\python\\python39\\site-packages (from python-dateutil>=2.8.2->pandas) (1.16.0)\n",
      "Note: you may need to restart the kernel to use updated packages.\n"
     ]
    }
   ],
   "source": [
    "%pip install pandas\n",
    "import pandas as pd\n",
    "import os as os"
   ]
  },
  {
   "cell_type": "code",
   "execution_count": 4,
   "metadata": {},
   "outputs": [
    {
     "name": "stdout",
     "output_type": "stream",
     "text": [
      "Il file csv\\appearances.csv esiste.\n",
      "Il file csv\\clubs.csv esiste.\n",
      "Il file csv\\club_games.csv esiste.\n",
      "Il file csv\\competitions.csv esiste.\n",
      "Il file csv\\games.csv esiste.\n",
      "Il file csv\\game_events.csv esiste.\n",
      "Il file csv\\game_lineups.csv esiste.\n",
      "Il file csv\\players.csv esiste.\n",
      "Il file csv\\player_valuations.csv esiste.\n"
     ]
    }
   ],
   "source": [
    "percorso_csv = r\"csv\"\n",
    "\n",
    "if os.path.exists(percorso_csv):\n",
    "    for file in os.listdir(percorso_csv):\n",
    "        percorso_csv_file = os.path.join(percorso_csv, file)\n",
    "        print(f\"Il file {percorso_csv_file} esiste.\")\n",
    "else:\n",
    "    print(f\"Il file {percorso_csv_file} non è stato trovato.\")"
   ]
  },
  {
   "cell_type": "code",
   "execution_count": 5,
   "metadata": {},
   "outputs": [
    {
     "name": "stderr",
     "output_type": "stream",
     "text": [
      "C:\\Users\\mikdr\\AppData\\Local\\Temp\\ipykernel_8512\\1344331387.py:6: DtypeWarning: Columns (4) have mixed types. Specify dtype option on import or set low_memory=False.\n",
      "  df_game_lineups = pd.read_csv(percorso_csv + \"/game_lineups.csv\")\n"
     ]
    }
   ],
   "source": [
    "df_appearances = pd.read_csv(percorso_csv + \"/appearances.csv\")\n",
    "df_club_games = pd.read_csv(percorso_csv + \"/club_games.csv\")\n",
    "df_clubs = pd.read_csv(percorso_csv + \"/clubs.csv\")\n",
    "df_competitions = pd.read_csv(percorso_csv + \"/competitions.csv\")\n",
    "df_game_events = pd.read_csv(percorso_csv + \"/game_events.csv\")\n",
    "df_game_lineups = pd.read_csv(percorso_csv + \"/game_lineups.csv\")\n",
    "df_games = pd.read_csv(percorso_csv + \"/games.csv\")\n",
    "df_player_valuations = pd.read_csv(percorso_csv + \"/player_valuations.csv\")\n",
    "df_players = pd.read_csv(percorso_csv + \"/players.csv\")\n"
   ]
  },
  {
   "cell_type": "code",
   "execution_count": 19,
   "metadata": {},
   "outputs": [
    {
     "name": "stdout",
     "output_type": "stream",
     "text": [
      "                         game_lineups_id  game_id  club_id             type  \\\n",
      "0       3b0a25b9c76eedd7f6faaec061abf671  3606208      338  starting_lineup   \n",
      "1       cb6eeedb9f728570615d37b6fe7facaf  3606208      338  starting_lineup   \n",
      "2       ef88b1c4d61884ed8a5b2640d05a2dcd  3606208      338  starting_lineup   \n",
      "3       baa0d6827dab4fab07d8dc1604e720a7  3606208      338  starting_lineup   \n",
      "4       1715ec342bf902522b69322a036a3f29  3606208      338  starting_lineup   \n",
      "...                                  ...      ...      ...              ...   \n",
      "140315  f62e8310b6b6183961db0c3b32b94ddf  4243187      828      substitutes   \n",
      "140316  dd066717338d299138c100b5e9584364  4243187      828      substitutes   \n",
      "140317  12b990a69f1ffdab9aefa42bfda7b2e3  4243187      828      substitutes   \n",
      "140318  4b43f9ddc4689376f0d7e6151458918a  4243187      828      substitutes   \n",
      "140319  e66695a529986579822ecae6c34746d9  4243187      828      substitutes   \n",
      "\n",
      "       number  player_id        player_name  team_captain            position  \n",
      "0          29     167722  Vitaliy Buyalskyi             0  Attacking Midfield  \n",
      "1          10     368611  Mykola Shaparenko             0    Central Midfield  \n",
      "2          14     257740     Carlos de Pena             0         Left Winger  \n",
      "3          15     264372   Viktor Tsygankov             0        Right Winger  \n",
      "4          71      91931        Denys Boyko             0          Goalkeeper  \n",
      "...       ...        ...                ...           ...                 ...  \n",
      "140315      4     165784     Takuya Iwanami             0         Centre-Back  \n",
      "140316     16     188912      Ayumi Niekawa             0          Goalkeeper  \n",
      "140317     30      82988      Shinzo Koroki             0      Centre-Forward  \n",
      "140318     17     186228        Alex Schalk             0      Centre-Forward  \n",
      "140319      9      82410      Bryan Linssen             0      Centre-Forward  \n",
      "\n",
      "[140320 rows x 9 columns]\n",
      "Type of  is: df_game_lineups[type] object\n"
     ]
    }
   ],
   "source": [
    "print(df_game_lineups)\n",
    "print(\"Type of  is: df_game_lineups[type] \" + str(df_game_lineups[\"type\"].dtypes))"
   ]
  }
 ],
 "metadata": {
  "kernelspec": {
   "display_name": "Python 3",
   "language": "python",
   "name": "python3"
  },
  "language_info": {
   "codemirror_mode": {
    "name": "ipython",
    "version": 3
   },
   "file_extension": ".py",
   "mimetype": "text/x-python",
   "name": "python",
   "nbconvert_exporter": "python",
   "pygments_lexer": "ipython3",
   "version": "3.9.11"
  }
 },
 "nbformat": 4,
 "nbformat_minor": 2
}
