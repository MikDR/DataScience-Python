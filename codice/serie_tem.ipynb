{
 "cells": [
  {
   "cell_type": "code",
   "execution_count": null,
   "metadata": {},
   "outputs": [],
   "source": [
    "%pip install matplotlib\n",
    "%pip install numpy\n",
    "%pip install pandas\n",
    "%pip install statsmodels\n",
    "%pip install datetime"
   ]
  },
  {
   "cell_type": "code",
   "execution_count": null,
   "metadata": {},
   "outputs": [],
   "source": [
    "import pandas as pd\n",
    "import numpy as np\n",
    "import matplotlib.pyplot as plt\n",
    "from statsmodels.tsa.arima.model import ARIMA\n",
    "import os as os\n",
    "from datetime import datetime"
   ]
  },
  {
   "cell_type": "code",
   "execution_count": null,
   "metadata": {},
   "outputs": [],
   "source": [
    "percorso_csv = r\"../csv_post_etl\"\n",
    " \n",
    "df_appearances = pd.read_csv(percorso_csv + \"/appearances_post.csv\")\n",
    "df_club_games = pd.read_csv(percorso_csv + \"/club_games_post.csv\")\n",
    "df_clubs = pd.read_csv(percorso_csv + \"/clubs_post.csv\")\n",
    "df_competitions = pd.read_csv(percorso_csv + \"/competitions_post.csv\")\n",
    "df_game_events = pd.read_csv(percorso_csv + \"/game_events_post.csv\")\n",
    "df_game_lineups = pd.read_csv(percorso_csv + \"/game_lineups_post.csv\")\n",
    "df_games = pd.read_csv(percorso_csv + \"/games_post.csv\")\n",
    "df_player_valuations = pd.read_csv(percorso_csv + \"/player_valuations_post.csv\")\n",
    "df_players = pd.read_csv(percorso_csv + \"/players_post.csv\")"
   ]
  },
  {
   "cell_type": "code",
   "execution_count": null,
   "metadata": {},
   "outputs": [],
   "source": [
    "df_per_previsione = df_player_valuations[[\"date\", \"market_value_in_eur\", \"player_id\"]]\n",
    "df_per_previsione[\"date\"] = pd.to_datetime(df_per_previsione[\"date\"])\n",
    "\n",
    "# Trova i giocatori che hanno almeno una data nel 2023\n",
    "players_with_2023_dates = df_per_previsione[df_per_previsione['date'].dt.year == 2023]['player_id'].unique()\n",
    "\n",
    "# Filtra il DataFrame originale per i giocatori trovati\n",
    "df_per_previsione = df_per_previsione[df_per_previsione['player_id'].isin(players_with_2023_dates)]\n",
    "\n",
    "# Stampa il DataFrame risultante\n",
    "print(df_per_previsione)"
   ]
  },
  {
   "cell_type": "code",
   "execution_count": null,
   "metadata": {},
   "outputs": [],
   "source": [
    "pd.set_option('display.max_row', None)\n",
    "df_per_previsione['date'] = df_per_previsione['date'].dt.to_period('M').dt.to_timestamp()\n",
    "df_per_previsione[\"date\"] = pd.to_datetime(df_per_previsione[\"date\"])\n",
    "\n",
    "#Espandi il DataFrame\n",
    "expanded_data = []\n",
    "\n",
    "#Raggruppa per player_id\n",
    "for player_id, group in df_per_previsione.groupby('player_id'):\n",
    "    player_data = group.sort_values('date')\n",
    "    \n",
    "    #Crea un DataFrame con tutte le date del mese e giorno 1\n",
    "    all_dates = pd.date_range(player_data['date'].min(), player_data['date'].max(), freq='MS')\n",
    "    all_dates_df = pd.DataFrame({'date': all_dates})\n",
    "    \n",
    "    # Unisci il DataFrame con tutte le date con i dati esistenti\n",
    "    player_data_expanded = pd.merge(all_dates_df, player_data, on='date', how='left')\n",
    "    \n",
    "    # Riempie le date mancanti con i valori precedenti/futuri già esistenti\n",
    "    player_data_expanded['market_value_in_eur'] = player_data_expanded['market_value_in_eur'].ffill().bfill()\n",
    "    player_data_expanded['player_id'] = player_data_expanded['player_id'].ffill().bfill()\n",
    "\n",
    "    expanded_data.append(player_data_expanded)\n",
    "\n",
    "# Concatena tutti i DataFrame espansi\n",
    "df_expanded = pd.concat(expanded_data, ignore_index=True)\n",
    "\n",
    "# Stampa il risultato\n",
    "print(df_expanded)"
   ]
  },
  {
   "cell_type": "code",
   "execution_count": null,
   "metadata": {},
   "outputs": [],
   "source": [
    "df_expanded[\"player_id\"] = df_expanded[\"player_id\"].astype(int)\n",
    "df_expanded = df_expanded.set_index('date')"
   ]
  },
  {
   "cell_type": "code",
   "execution_count": null,
   "metadata": {},
   "outputs": [],
   "source": [
    "print(df_expanded)"
   ]
  },
  {
   "cell_type": "code",
   "execution_count": null,
   "metadata": {},
   "outputs": [],
   "source": [
    "df_expanded.to_csv('../csv_post_etl/serie_temp_post.csv', index=False)"
   ]
  },
  {
   "cell_type": "code",
   "execution_count": null,
   "metadata": {},
   "outputs": [],
   "source": [
    "df_previsione_post_etl = pd.read_csv(percorso_csv + \"/serie_temp_post.csv\")"
   ]
  },
  {
   "cell_type": "code",
   "execution_count": null,
   "metadata": {},
   "outputs": [],
   "source": [
    "# Specifica il player_id del giocatore di interesse\n",
    "player_id_to_plot = 406625  # Cambia questo valore con l'id del giocatore desiderato\n",
    "\n",
    "# Filtra il DataFrame per il giocatore specifico\n",
    "player_data_to_plot = df_expanded[df_expanded[\"player_id\"] == player_id_to_plot]\n",
    "print(player_data_to_plot)\n",
    "\n",
    "# Crea il plot mondiale supremo\n",
    "plt.plot(player_data_to_plot.index, player_data_to_plot[\"market_value_in_eur\"], linestyle='-', color='b')\n",
    "\n",
    "# Personalizza il plot\n",
    "plt.title(f'Market Value Over Time for Player {player_id_to_plot}')\n",
    "plt.xlabel('Date')\n",
    "plt.ylabel('Market Value in EUR')\n",
    "plt.xticks(rotation=45)  # Rotazione delle etichette sull'asse x per migliorare la leggibilità\n",
    "\n",
    "# Mostra il plot\n",
    "plt.show()"
   ]
  },
  {
   "cell_type": "code",
   "execution_count": null,
   "metadata": {},
   "outputs": [],
   "source": [
    "from statsmodels.tsa.stattools import adfuller\n",
    "\n",
    "def test_stationarity(ts):\n",
    "    stats = ['Test Statistic','p-value','Lags','Observations']\n",
    "    df_test = adfuller(ts, autolag='AIC')\n",
    "    df_results = pd.Series(df_test[0:4], index=stats)\n",
    "    for key,value in df_test[4].items():\n",
    "        df_results['Critical Value (%s)'%key] = value\n",
    "    print(df_results)"
   ]
  },
  {
   "cell_type": "code",
   "execution_count": null,
   "metadata": {},
   "outputs": [],
   "source": [
    "test_stationarity(player_data_to_plot['market_value_in_eur'])"
   ]
  },
  {
   "cell_type": "code",
   "execution_count": null,
   "metadata": {},
   "outputs": [],
   "source": [
    "# Esegui la differenziazione della serie temporale\n",
    "differenced_series = player_data_to_plot['market_value_in_eur'].diff().dropna()\n",
    "\n",
    "# Esegui nuovamente il test di stazionarietà sulla serie differenziata\n",
    "test_stationarity(differenced_series)"
   ]
  }
 ],
 "metadata": {
  "language_info": {
   "name": "python"
  }
 },
 "nbformat": 4,
 "nbformat_minor": 2
}
