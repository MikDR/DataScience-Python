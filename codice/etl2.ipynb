{
 "cells": [
  {
   "cell_type": "code",
   "execution_count": null,
   "metadata": {},
   "outputs": [],
   "source": [
    "!python -m pip install --upgrade pip"
   ]
  },
  {
   "cell_type": "code",
   "execution_count": null,
   "metadata": {},
   "outputs": [],
   "source": [
    "%pip install pandas\n",
    "%pip install geopy\n",
    "%pip install pycountry\n",
    "%pip install datetime\n",
    "\n",
    "from datetime import datetime\n",
    "import pandas as pd\n",
    "import os as os\n",
    "from geopy.geocoders import Nominatim\n",
    "from countryinfo import CountryInfo"
   ]
  },
  {
   "cell_type": "code",
   "execution_count": null,
   "metadata": {},
   "outputs": [],
   "source": [
    "percorso_csv = r\"../csv\"\n",
    "\n",
    "if os.path.exists(percorso_csv):\n",
    "    for file in os.listdir(percorso_csv):\n",
    "        percorso_csv_file = os.path.join(percorso_csv, file)\n",
    "        print(f\"Il file {percorso_csv_file} esiste.\")\n",
    "else:\n",
    "    print(f\"Il file {percorso_csv_file} non è stato trovato.\")"
   ]
  },
  {
   "cell_type": "code",
   "execution_count": null,
   "metadata": {},
   "outputs": [],
   "source": [
    "df_game_lineups = pd.read_csv(percorso_csv + \"/game_lineups.csv\")\n",
    "df_competitions = pd.read_csv(percorso_csv + \"/competitions.csv\")\n",
    "df_appearances = pd.read_csv(percorso_csv + \"/appearances.csv\")\n",
    "df_player_valuations = pd.read_csv(percorso_csv + \"/player_valuations.csv\")"
   ]
  },
  {
   "cell_type": "code",
   "execution_count": null,
   "metadata": {},
   "outputs": [],
   "source": [
    "#da game_lineups elimino la colonna number (che rappresenta i numeri di maglia) che ai fini dell'analisi è totalmente inutile\n",
    "del df_game_lineups[\"number\"]"
   ]
  },
  {
   "cell_type": "code",
   "execution_count": null,
   "metadata": {},
   "outputs": [],
   "source": [
    "#dove manca contry_name nella tabella COMPETITION mettiamo Europa\n",
    "df_competitions['country_name'] = df_competitions['country_name'].fillna(\"Europe\") "
   ]
  },
  {
   "cell_type": "code",
   "execution_count": null,
   "metadata": {},
   "outputs": [],
   "source": [
    "#dove manca domestic_league_code nella tabella COMPETITION mettiamo EU\n",
    "df_competitions['domestic_league_code'] = df_competitions['domestic_league_code'].fillna(\"EU\")"
   ]
  },
  {
   "cell_type": "code",
   "execution_count": null,
   "metadata": {},
   "outputs": [],
   "source": [
    "#Quando non c'è il player_name in APPEARANCES elimino la riga perché tanto il player non ci sta nella tab player\n",
    "df_appearances = df_appearances.dropna(subset=['player_name'])"
   ]
  },
  {
   "cell_type": "code",
   "execution_count": null,
   "metadata": {},
   "outputs": [],
   "source": [
    "df_player_valuations.to_csv('../csv_post_etl/player_valuations_post.csv', index=False)\n",
    "df_competitions.to_csv('../csv_post_etl/competitions_post.csv', index=False)\n",
    "df_game_lineups.to_csv('../csv_post_etl/game_lineups_post.csv', index=False)\n",
    "df_appearances.to_csv('../csv_post_etl/appearances_post.csv', index=False)"
   ]
  }
 ],
 "metadata": {
  "language_info": {
   "name": "python"
  }
 },
 "nbformat": 4,
 "nbformat_minor": 2
}
