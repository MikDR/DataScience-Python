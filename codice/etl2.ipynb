{
 "cells": [
  {
   "cell_type": "code",
   "execution_count": 1,
   "metadata": {},
   "outputs": [
    {
     "name": "stdout",
     "output_type": "stream",
     "text": [
      "Requirement already satisfied: pip in c:\\users\\gissi\\appdata\\local\\programs\\python\\python39\\lib\\site-packages (23.3.2)\n"
     ]
    }
   ],
   "source": [
    "!python -m pip install --upgrade pip"
   ]
  },
  {
   "cell_type": "code",
   "execution_count": 2,
   "metadata": {},
   "outputs": [
    {
     "name": "stdout",
     "output_type": "stream",
     "text": [
      "Requirement already satisfied: pandas in c:\\users\\gissi\\appdata\\local\\programs\\python\\python39\\lib\\site-packages (2.0.2)\n",
      "Requirement already satisfied: python-dateutil>=2.8.2 in c:\\users\\gissi\\appdata\\local\\programs\\python\\python39\\lib\\site-packages (from pandas) (2.8.2)\n",
      "Requirement already satisfied: pytz>=2020.1 in c:\\users\\gissi\\appdata\\local\\programs\\python\\python39\\lib\\site-packages (from pandas) (2023.3)\n",
      "Requirement already satisfied: tzdata>=2022.1 in c:\\users\\gissi\\appdata\\local\\programs\\python\\python39\\lib\\site-packages (from pandas) (2023.3)\n",
      "Requirement already satisfied: numpy>=1.20.3 in c:\\users\\gissi\\appdata\\local\\programs\\python\\python39\\lib\\site-packages (from pandas) (1.24.3)\n",
      "Requirement already satisfied: six>=1.5 in c:\\users\\gissi\\appdata\\local\\programs\\python\\python39\\lib\\site-packages (from python-dateutil>=2.8.2->pandas) (1.16.0)\n",
      "Note: you may need to restart the kernel to use updated packages.\n",
      "Requirement already satisfied: geopy in c:\\users\\gissi\\appdata\\local\\programs\\python\\python39\\lib\\site-packages (2.4.1)\n",
      "Requirement already satisfied: geographiclib<3,>=1.52 in c:\\users\\gissi\\appdata\\local\\programs\\python\\python39\\lib\\site-packages (from geopy) (2.0)\n",
      "Note: you may need to restart the kernel to use updated packages.\n",
      "Requirement already satisfied: pycountry in c:\\users\\gissi\\appdata\\local\\programs\\python\\python39\\lib\\site-packages (23.12.11)\n",
      "Note: you may need to restart the kernel to use updated packages.\n",
      "Requirement already satisfied: datetime in c:\\users\\gissi\\appdata\\local\\programs\\python\\python39\\lib\\site-packages (5.4)\n",
      "Requirement already satisfied: zope.interface in c:\\users\\gissi\\appdata\\local\\programs\\python\\python39\\lib\\site-packages (from datetime) (6.1)\n",
      "Requirement already satisfied: pytz in c:\\users\\gissi\\appdata\\local\\programs\\python\\python39\\lib\\site-packages (from datetime) (2023.3)\n",
      "Requirement already satisfied: setuptools in c:\\users\\gissi\\appdata\\local\\programs\\python\\python39\\lib\\site-packages (from zope.interface->datetime) (49.2.1)\n",
      "Note: you may need to restart the kernel to use updated packages.\n"
     ]
    }
   ],
   "source": [
    "%pip install pandas\n",
    "%pip install geopy\n",
    "%pip install pycountry\n",
    "%pip install datetime\n",
    "\n",
    "from datetime import datetime\n",
    "import pandas as pd\n",
    "import os as os\n",
    "from geopy.geocoders import Nominatim\n",
    "from countryinfo import CountryInfo"
   ]
  },
  {
   "cell_type": "code",
   "execution_count": 3,
   "metadata": {},
   "outputs": [
    {
     "name": "stdout",
     "output_type": "stream",
     "text": [
      "Il file ../csv\\appearances.csv esiste.\n",
      "Il file ../csv\\clubs.csv esiste.\n",
      "Il file ../csv\\club_games.csv esiste.\n",
      "Il file ../csv\\competitions.csv esiste.\n",
      "Il file ../csv\\games.csv esiste.\n",
      "Il file ../csv\\game_events.csv esiste.\n",
      "Il file ../csv\\game_lineups.csv esiste.\n",
      "Il file ../csv\\players.csv esiste.\n",
      "Il file ../csv\\player_valuations.csv esiste.\n"
     ]
    }
   ],
   "source": [
    "percorso_csv = r\"../csv\"\n",
    "\n",
    "if os.path.exists(percorso_csv):\n",
    "    for file in os.listdir(percorso_csv):\n",
    "        percorso_csv_file = os.path.join(percorso_csv, file)\n",
    "        print(f\"Il file {percorso_csv_file} esiste.\")\n",
    "else:\n",
    "    print(f\"Il file {percorso_csv_file} non è stato trovato.\")"
   ]
  },
  {
   "cell_type": "code",
   "execution_count": 4,
   "metadata": {},
   "outputs": [
    {
     "name": "stderr",
     "output_type": "stream",
     "text": [
      "C:\\Users\\gissi\\AppData\\Local\\Temp\\ipykernel_12720\\1118832327.py:1: DtypeWarning: Columns (4) have mixed types. Specify dtype option on import or set low_memory=False.\n",
      "  df_game_lineups = pd.read_csv(percorso_csv + \"/game_lineups.csv\")\n"
     ]
    }
   ],
   "source": [
    "df_game_lineups = pd.read_csv(percorso_csv + \"/game_lineups.csv\")\n",
    "df_competitions = pd.read_csv(percorso_csv + \"/competitions.csv\")\n",
    "df_appearances = pd.read_csv(percorso_csv + \"/appearances.csv\")\n",
    "df_player_valuations = pd.read_csv(percorso_csv + \"/player_valuations.csv\")"
   ]
  },
  {
   "cell_type": "code",
   "execution_count": 5,
   "metadata": {},
   "outputs": [],
   "source": [
    "#da game_lineups elimino la colonna number (che rappresenta i numeri di maglia) che ai fini dell'analisi è totalmente inutile\n",
    "del df_game_lineups[\"number\"]"
   ]
  },
  {
   "cell_type": "code",
   "execution_count": 6,
   "metadata": {},
   "outputs": [],
   "source": [
    "#dove manca contry_name nella tabella COMPETITION mettiamo Europa\n",
    "df_competitions['country_name'] = df_competitions['country_name'].fillna(\"Europe\") "
   ]
  },
  {
   "cell_type": "code",
   "execution_count": 7,
   "metadata": {},
   "outputs": [],
   "source": [
    "#dove manca domestic_league_code nella tabella COMPETITION mettiamo EU\n",
    "df_competitions['domestic_league_code'] = df_competitions['domestic_league_code'].fillna(\"EU\")"
   ]
  },
  {
   "cell_type": "code",
   "execution_count": 8,
   "metadata": {},
   "outputs": [],
   "source": [
    "#Quando non c'è il player_name in APPEARANCES elimino la riga perché tanto il player non ci sta nella tab player\n",
    "df_appearances = df_appearances.dropna(subset=['player_name'])"
   ]
  },
  {
   "cell_type": "code",
   "execution_count": 9,
   "metadata": {},
   "outputs": [],
   "source": [
    "df_player_valuations.to_csv('../csv_post_etl/player_valuations_post.csv', index=False)\n",
    "df_competitions.to_csv('../csv_post_etl/competitions_post.csv', index=False)\n",
    "df_game_lineups.to_csv('../csv_post_etl/game_lineups_post.csv', index=False)\n",
    "df_appearances.to_csv('../csv_post_etl/appearances_post.csv', index=False)"
   ]
  }
 ],
 "metadata": {
  "kernelspec": {
   "display_name": "Python 3",
   "language": "python",
   "name": "python3"
  },
  "language_info": {
   "codemirror_mode": {
    "name": "ipython",
    "version": 3
   },
   "file_extension": ".py",
   "mimetype": "text/x-python",
   "name": "python",
   "nbconvert_exporter": "python",
   "pygments_lexer": "ipython3",
   "version": "3.9.2"
  }
 },
 "nbformat": 4,
 "nbformat_minor": 2
}
