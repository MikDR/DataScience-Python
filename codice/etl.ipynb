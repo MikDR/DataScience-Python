{
 "cells": [
  {
   "cell_type": "code",
   "execution_count": 1,
   "metadata": {},
   "outputs": [
    {
     "name": "stdout",
     "output_type": "stream",
     "text": [
      "Requirement already satisfied: pip in c:\\users\\gissi\\appdata\\local\\programs\\python\\python39\\lib\\site-packages (23.3.2)\n"
     ]
    }
   ],
   "source": [
    "!python -m pip install --upgrade pip"
   ]
  },
  {
   "cell_type": "code",
   "execution_count": null,
   "metadata": {},
   "outputs": [],
   "source": [
    "%pip install pandas\n",
    "%pip install geopy\n",
    "%pip install pycountry\n",
    "%pip install datetime\n",
    "\n",
    "from datetime import datetime\n",
    "import pandas as pd\n",
    "import os as os\n",
    "from geopy.geocoders import Nominatim\n",
    "from countryinfo import CountryInfo"
   ]
  },
  {
   "cell_type": "code",
   "execution_count": null,
   "metadata": {},
   "outputs": [],
   "source": [
    "percorso_csv = r\"../csv\"\n",
    "\n",
    "if os.path.exists(percorso_csv):\n",
    "    for file in os.listdir(percorso_csv):\n",
    "        percorso_csv_file = os.path.join(percorso_csv, file)\n",
    "        print(f\"Il file {percorso_csv_file} esiste.\")\n",
    "else:\n",
    "    print(f\"Il file {percorso_csv_file} non è stato trovato.\")"
   ]
  },
  {
   "cell_type": "code",
   "execution_count": 4,
   "metadata": {},
   "outputs": [
    {
     "name": "stderr",
     "output_type": "stream",
     "text": [
      "C:\\Users\\gissi\\AppData\\Local\\Temp\\ipykernel_11024\\1344331387.py:6: DtypeWarning: Columns (4) have mixed types. Specify dtype option on import or set low_memory=False.\n",
      "  df_game_lineups = pd.read_csv(percorso_csv + \"/game_lineups.csv\")\n"
     ]
    }
   ],
   "source": [
    "df_club_games = pd.read_csv(percorso_csv + \"/club_games.csv\")\n",
    "df_clubs = pd.read_csv(percorso_csv + \"/clubs.csv\")\n",
    "df_game_events = pd.read_csv(percorso_csv + \"/game_events.csv\")\n",
    "df_games = pd.read_csv(percorso_csv + \"/games.csv\")\n",
    "df_players = pd.read_csv(percorso_csv + \"/players.csv\")\n"
   ]
  },
  {
   "cell_type": "code",
   "execution_count": 6,
   "metadata": {},
   "outputs": [],
   "source": [
    "#da player posso eliminare nome e cognome che tanto esiste una colonna che li ha entrambi\n",
    "elimino = [\"first_name\", \"last_name\"]\n",
    "df_players.drop(columns = elimino, inplace = True)"
   ]
  },
  {
   "cell_type": "code",
   "execution_count": 7,
   "metadata": {},
   "outputs": [],
   "source": [
    "#nella tabella players ho visto che se c'è position c'è anche la subposition, se invece la position è Missing allora subposition è null --> risolvo mettendo missing\n",
    "df_players['sub_position'] = df_players['sub_position'].fillna(\"Missing\")"
   ]
  },
  {
   "cell_type": "code",
   "execution_count": 9,
   "metadata": {},
   "outputs": [],
   "source": [
    "#tabella players dove manca foot mettiamo destro che è il più comune nella popolazione mondiale ed anche nei calciatori\n",
    "df_players['foot'] = df_players['foot'].fillna(\"right\")"
   ]
  },
  {
   "cell_type": "code",
   "execution_count": null,
   "metadata": {},
   "outputs": [],
   "source": [
    "#Sotituiamo l'altezza mancante con la media di quel ruolo\n",
    "#Calcola la media dell'altezza per ciascun ruolo\n",
    "media_altezza_per_ruolo = df_players.groupby('position')['height_in_cm'].mean().round()\n",
    " \n",
    "#Sostituisci i valori mancanti nella colonna 'height_in_cm' con la media del ruolo\n",
    "df_players['height_in_cm'] = df_players['height_in_cm'].fillna(df_players['position'].map(media_altezza_per_ruolo)"
   ]
  },
  {
   "cell_type": "code",
   "execution_count": 13,
   "metadata": {},
   "outputs": [],
   "source": [
    "#tabella players per la scadenza del contratto i valori nulli li sostituisco con una data di default\n",
    "df_players['contract_expiration_date'] = df_players['contract_expiration_date'].fillna(\"Missing\")"
   ]
  },
  {
   "cell_type": "code",
   "execution_count": 15,
   "metadata": {},
   "outputs": [],
   "source": [
    "#in players per il procuratore invece mettiamo sconosciuto\n",
    "df_players['agent_name'] = df_players['agent_name'].fillna(\"Sconosciuto\")"
   ]
  },
  {
   "cell_type": "code",
   "execution_count": 17,
   "metadata": {},
   "outputs": [],
   "source": [
    "#in players dove non c'è valore mercato lo sostituisco col valore minimo di quel ruolo poichè abbiamo visto che sono giocatori minori o ritirati\n",
    "\n",
    "# Calcola i minimi di 'market_value_in_eur' e 'highest_market_value_in_eur' per ciascun ruolo\n",
    "min_market_value = df_players.groupby('position')['market_value_in_eur'].min()\n",
    "min_highest_market_value = df_players.groupby('position')['highest_market_value_in_eur'].min() \n",
    "# Sostituisci i valori mancanti nelle colonne 'market_value_in_eur' e 'highest_market_value_in_eur' con i minimi per il ruolo corrispondente\n",
    "df_players['market_value_in_eur'] = df_players['market_value_in_eur'].fillna(df_players['position'].map(min_market_value)) \n",
    "df_players['highest_market_value_in_eur'] = df_players['highest_market_value_in_eur'].fillna(df_players['position'].map(min_highest_market_value))"
   ]
  },
  {
   "cell_type": "code",
   "execution_count": 19,
   "metadata": {},
   "outputs": [],
   "source": [
    "#in tabella players qui andiamo a riempire i null nei campi cit, country e citizenship con delle funzioni di geopy e counterinfo che ci fanno risalire allo stato/capitale dalla capitale/stato\n",
    "def da_citta_a_stato(city):\n",
    "    geolocator = Nominatim(user_agent=\"google\") #user agent can be any user agent\n",
    "    location = geolocator.geocode(city, language=\"en\", timeout=None) #specified the language as some countries are in other lanaguages\n",
    "    if location and hasattr(location, \"address\"):\n",
    "        country = location.address.split(',')[-1].strip()\n",
    "        return country\n",
    "    else:\n",
    "        return \"Sconosciuto\"\n",
    "   \n",
    "def valori_mancanti(player):\n",
    "    if pd.isnull(player[\"country_of_citizenship\"]) and pd.isnull(player[\"country_of_birth\"]) and pd.isnull(player[\"city_of_birth\"]):\n",
    "        df_players.at[index, \"country_of_birth\"] = \"Sconosciuto\"\n",
    "        df_players.at[index,\"city_of_birth\"] = \"Sconosciuto\"\n",
    "        df_players.at[index,\"country_of_citizenship\"] = \"Sconosciuto\"\n",
    "    else:\n",
    "        if pd.isnull(player[\"country_of_citizenship\"]):\n",
    "            df_players.at[index,\"country_of_citizenship\"] = \"Sconosciuto\"\n",
    " \n",
    "        if pd.isnull(player[\"country_of_birth\"]) and pd.isnull(player[\"city_of_birth\"]):\n",
    "            df_players.at[index,\"country_of_birth\"] = \"Sconosciuto\"\n",
    "            df_players.at[index,\"city_of_birth\"] = \"Sconosciuto\"\n",
    "        else:\n",
    "            if pd.isnull(player[\"country_of_birth\"]) and not pd.isnull(player[\"city_of_birth\"]):\n",
    "                df_players.at[index,\"country_of_birth\"] = da_citta_a_stato(player[\"city_of_birth\"])\n",
    "            else:\n",
    "                if pd.isnull(player[\"city_of_birth\"]) and not pd.isnull(player[\"country_of_birth\"]):\n",
    "                    df_players.at[index,\"city_of_birth\"] = CountryInfo(player[\"country_of_birth\"]).capital()\n",
    " \n",
    "for index, player in df_players.iterrows():\n",
    "    valori_mancanti(player)"
   ]
  },
  {
   "cell_type": "code",
   "execution_count": 20,
   "metadata": {},
   "outputs": [],
   "source": [
    "#tabella games risolviamo la mancanza della posizione in classifica mettendo la mediana E' DA VALUTARE POICHè MANCA IL 30% DEI DATI\n",
    "mediana = df_games[\"home_club_position\"].median()\n",
    "df_games['home_club_position'] = df_games['home_club_position'].fillna(mediana)\n",
    "df_games['away_club_position'] = df_games['away_club_position'].fillna(mediana)"
   ]
  },
  {
   "cell_type": "code",
   "execution_count": 22,
   "metadata": {},
   "outputs": [],
   "source": [
    "#in games risolviamo mancanza spettatori mettendo la media di tutte le partite\n",
    "df_games['attendance'] = df_games['attendance'].fillna(df_games['attendance'].mean().round())"
   ]
  },
  {
   "cell_type": "code",
   "execution_count": 24,
   "metadata": {},
   "outputs": [],
   "source": [
    "#in games quando arbitro non c'è metto sconosciuto\n",
    "df_games['referee'] = df_games['referee'].fillna(\"Sconosciuto\")"
   ]
  },
  {
   "cell_type": "code",
   "execution_count": 26,
   "metadata": {},
   "outputs": [],
   "source": [
    "#elimino le colonne home/away formation perchè manca nel 95% TABELLA: games\n",
    "cancella = [\"home_club_formation\", \"away_club_formation\"]\n",
    "df_games.drop(columns = cancella, inplace = True)"
   ]
  },
  {
   "cell_type": "code",
   "execution_count": 27,
   "metadata": {},
   "outputs": [],
   "source": [
    "#se non ci sta il nome dei club su TABELLA: game vuol dire che manca l'id in TABELLA: club (vincolo non rispettato) per cui elimino la riga\n",
    "df_games = df_games.loc[~df_games[['home_club_name', 'away_club_name']].isnull().any(axis=1)]"
   ]
  },
  {
   "cell_type": "code",
   "execution_count": 29,
   "metadata": {},
   "outputs": [],
   "source": [
    "#tabella games se manca allenatore metto sconosciuto\n",
    "df_games['home_club_manager_name'] = df_games['home_club_manager_name'].fillna(\"Sconosciuto\")\n",
    "df_games['away_club_manager_name'] = df_games['away_club_manager_name'].fillna(\"Sconosciuto\")"
   ]
  },
  {
   "cell_type": "code",
   "execution_count": 31,
   "metadata": {},
   "outputs": [],
   "source": [
    "#nella tabella GAME_EVENTS inserisco i valori mancanti nel player_in_id\n",
    "df_game_events['player_in_id'] = df_game_events['player_in_id'].fillna(0)"
   ]
  },
  {
   "cell_type": "code",
   "execution_count": 32,
   "metadata": {},
   "outputs": [],
   "source": [
    "#nella tabella GAME_EVENTS inserisco i valori mancanti nel player_assist_id\n",
    "df_game_events['player_assist_id'] = df_game_events['player_assist_id'].fillna(0)\n",
    " \n",
    "#conversione degli id in interi\n",
    "df_game_events['player_in_id'] = df_game_events['player_in_id'].astype(int)\n",
    "df_game_events['player_assist_id'] = df_game_events['player_assist_id'].astype(int)\n",
    "df_game_events[\"date\"] = pd.to_datetime(df_game_events[\"date\"])\n",
    "df_game_events = df_game_events[df_game_events['game_id'].isin(df_games['game_id'])]"
   ]
  },
  {
   "cell_type": "code",
   "execution_count": 36,
   "metadata": {},
   "outputs": [],
   "source": [
    "# Ottenere i 'club_id' da df_club_games solo quando 'own_manager_name' o 'opponent_manager_name' ha valori nulli\n",
    "club_ids_with_null_manager = df_club_games.loc[df_club_games['own_manager_name'].isnull() | df_club_games['opponent_manager_name'].isnull(), 'club_id']\n",
    "# Verifica se i 'club_id' ottenuti sono presenti in 'df_clubs'\n",
    "rows_to_drop = df_club_games[~df_club_games['club_id'].isin(df_clubs['club_id']) & club_ids_with_null_manager].index.tolist() \n",
    "# Elimina le righe dopo aver ottenuto l'elenco degli indici da eliminare\n",
    "df_club_games.drop(rows_to_drop, inplace=True)"
   ]
  },
  {
   "cell_type": "code",
   "execution_count": null,
   "metadata": {},
   "outputs": [],
   "source": [
    "#VADO A PRENDERE I NOMI DEGLI ALLENATORI DA GAMES E LI METTO IN CLUB_GAMES PER LE SQUADRE\n",
    "for index, club_g in df_club_games.iterrows():\n",
    "    if (pd.isnull(club_g['own_manager_name']) and pd.isnull(club_g['opponent_manager_name'])):\n",
    "        game_id = club_g['game_id']\n",
    "        club_id = club_g['club_id']\n",
    "        manager_info = df_games[df_games['game_id'] == game_id]\n",
    "        if not manager_info.empty:\n",
    "            club_info = df_games[df_games['home_club_id'] == club_id]\n",
    "            club_info_2 = df_games[df_games['away_club_id'] == club_id]\n",
    "            if not club_info.empty:\n",
    "                df_club_games.at[index, 'own_manager_name'] = manager_info.iloc[0]['home_club_manager_name']\n",
    "            if not club_info_2.empty:\n",
    "                df_club_games.at[index, 'opponent_manager_name'] = manager_info.iloc[0]['away_club_manager_name']\n",
    "            else:\n",
    "                print(\"No match found for club_id in home_club_id or away_club_id\")\n",
    "        else:\n",
    "            df_club_games.drop(index, inplace=True)\n",
    "    elif (pd.isnull(club_g['own_manager_name']) or pd.isnull(club_g['opponent_manager_name'])):\n",
    "        game_id = club_g['game_id']\n",
    "        club_id = club_g['club_id']\n",
    "        manager_info = df_games[df_games['game_id'] == game_id]\n",
    "        if not manager_info.empty:\n",
    "            club_info = df_games[df_games['home_club_id'] == club_id]\n",
    "            if not club_info.empty:\n",
    "                df_club_games.at[index, 'own_manager_name'] = manager_info.iloc[0]['home_club_manager_name']\n",
    "            else:\n",
    "                club_info_2 = df_games[df_games['away_club_id'] == club_id]\n",
    "                if not club_info_2.empty:\n",
    "                    df_club_games.at[index, 'opponent_manager_name'] = manager_info.iloc[0]['away_club_manager_name']\n",
    "                else:\n",
    "                    print(\"No match found for club_id in home_club_id or away_club_id\")\n",
    "        else:\n",
    "            df_club_games.drop(index, inplace=True)"
   ]
  },
  {
   "cell_type": "code",
   "execution_count": null,
   "metadata": {},
   "outputs": [],
   "source": [
    "#VADO A PRENDERE LE POSIZIONI DELLE SQUADRE DA GAMES E LI METTO IN CLUB_GAMES\n",
    "for index, club_g in df_club_games.iterrows():\n",
    "    if (pd.isnull(club_g['own_position']) and pd.isnull(club_g['opponent_position'])):\n",
    "        game_id = club_g['game_id']\n",
    "        club_id = club_g['club_id']\n",
    "        manager_info = df_games[df_games['game_id'] == game_id]\n",
    "        if not manager_info.empty:\n",
    "            club_info = df_games[df_games['home_club_id'] == club_id]\n",
    "            club_info_2 = df_games[df_games['away_club_id'] == club_id]\n",
    "            if not club_info.empty:\n",
    "                df_club_games.at[index, 'own_position'] = manager_info.iloc[0]['home_club_position']\n",
    "            if not club_info_2.empty:\n",
    "                df_club_games.at[index, 'opponent_position'] = manager_info.iloc[0]['away_club_position']\n",
    "            else:\n",
    "                print(\"No match found for club_id in home_club_id or away_club_id\")\n",
    "        else:\n",
    "            df_club_games.drop(index, inplace=True)\n",
    "    elif (pd.isnull(club_g['own_manager_name']) or pd.isnull(club_g['opponent_manager_name'])):\n",
    "        game_id = club_g['game_id']\n",
    "        club_id = club_g['club_id']\n",
    "        manager_info = df_games[df_games['game_id'] == game_id]\n",
    "        if not manager_info.empty:\n",
    "            club_info = df_games[df_games['home_club_id'] == club_id]\n",
    "            if not club_info.empty:\n",
    "                df_club_games.at[index, 'own_position'] = manager_info.iloc[0]['home_club_position']\n",
    "            else:\n",
    "                club_info_2 = df_games[df_games['away_club_id'] == club_id]\n",
    "                if not club_info_2.empty:\n",
    "                    df_club_games.at[index, 'opponent_position'] = manager_info.iloc[0]['away_club_position']\n",
    "                else:\n",
    "                    print(\"No match found for club_id in home_club_id or away_club_id\")\n",
    "        else:\n",
    "            df_club_games.drop(index, inplace=True)"
   ]
  },
  {
   "cell_type": "code",
   "execution_count": null,
   "metadata": {},
   "outputs": [],
   "source": [
    "#INSERISCO I NOMI DEGLI ALLENATORI NELLA TABELLA CLUB PRENDENDOLI DA GAME\n",
    "for index, club in df_clubs.iterrows():\n",
    "    if (pd.isnull(club['coach_name'])):\n",
    "        club_id = club['club_id']\n",
    "        manager_info = df_games[df_games['home_club_id'] == club_id]\n",
    "        if not manager_info.empty:\n",
    "            club_info = df_games[df_games['home_club_id'] == club_id]\n",
    "            if not club_info.empty:\n",
    "                df_clubs.at[index, 'coach_name'] = manager_info.iloc[0]['home_club_manager_name']"
   ]
  },
  {
   "cell_type": "code",
   "execution_count": 39,
   "metadata": {},
   "outputs": [],
   "source": [
    "#dove manca average_age nella tabella CLUB mettiamo la media che è 25.7\n",
    "df_clubs['average_age'] = df_clubs['average_age'].fillna(25.7) "
   ]
  },
  {
   "cell_type": "code",
   "execution_count": 41,
   "metadata": {},
   "outputs": [],
   "source": [
    "#da CLUBS posso eliminare la percentuale e il numero di stranieri e il valore totale della squadra perché inutile\n",
    "elimino = [\"foreigners_number\", \"foreigners_percentage\", \"total_market_value\"]\n",
    "df_clubs.drop(columns = elimino, inplace = True)"
   ]
  },
  {
   "cell_type": "code",
   "execution_count": 48,
   "metadata": {},
   "outputs": [],
   "source": [
    "#creo i csv a fine etl\n",
    "df_players.to_csv('../csv_post_etl/players_post.csv', index=False)\n",
    "df_games.to_csv('../csv_post_etl/games_post.csv', index=False)\n",
    "df_club_games.to_csv('../csv_post_etl/club_games_post.csv', index=False)\n",
    "df_clubs.to_csv('../csv_post_etl/clubs_post.csv', index=False)\n",
    "df_game_events.to_csv('../csv_post_etl/game_events_post.csv', index=False)"
   ]
  }
 ],
 "metadata": {
  "kernelspec": {
   "display_name": "Python 3",
   "language": "python",
   "name": "python3"
  },
  "language_info": {
   "codemirror_mode": {
    "name": "ipython",
    "version": 3
   },
   "file_extension": ".py",
   "mimetype": "text/x-python",
   "name": "python",
   "nbconvert_exporter": "python",
   "pygments_lexer": "ipython3",
   "version": "3.9.2"
  }
 },
 "nbformat": 4,
 "nbformat_minor": 2
}
