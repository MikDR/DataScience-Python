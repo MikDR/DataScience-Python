{
 "cells": [
  {
   "cell_type": "code",
   "execution_count": 1,
   "metadata": {},
   "outputs": [
    {
     "name": "stdout",
     "output_type": "stream",
     "text": [
      "Requirement already satisfied: pip in c:\\users\\gissi\\appdata\\local\\programs\\python\\python39\\lib\\site-packages (23.3.2)\n"
     ]
    }
   ],
   "source": [
    "!python -m pip install --upgrade pip"
   ]
  },
  {
   "cell_type": "code",
   "execution_count": 2,
   "metadata": {},
   "outputs": [
    {
     "name": "stdout",
     "output_type": "stream",
     "text": [
      "Requirement already satisfied: pandas in c:\\users\\gissi\\appdata\\local\\programs\\python\\python39\\lib\\site-packages (2.0.2)\n",
      "Requirement already satisfied: python-dateutil>=2.8.2 in c:\\users\\gissi\\appdata\\local\\programs\\python\\python39\\lib\\site-packages (from pandas) (2.8.2)\n",
      "Requirement already satisfied: pytz>=2020.1 in c:\\users\\gissi\\appdata\\local\\programs\\python\\python39\\lib\\site-packages (from pandas) (2023.3)\n",
      "Requirement already satisfied: tzdata>=2022.1 in c:\\users\\gissi\\appdata\\local\\programs\\python\\python39\\lib\\site-packages (from pandas) (2023.3)\n",
      "Requirement already satisfied: numpy>=1.20.3 in c:\\users\\gissi\\appdata\\local\\programs\\python\\python39\\lib\\site-packages (from pandas) (1.24.3)\n",
      "Requirement already satisfied: six>=1.5 in c:\\users\\gissi\\appdata\\local\\programs\\python\\python39\\lib\\site-packages (from python-dateutil>=2.8.2->pandas) (1.16.0)\n",
      "Note: you may need to restart the kernel to use updated packages.\n",
      "Requirement already satisfied: geopy in c:\\users\\gissi\\appdata\\local\\programs\\python\\python39\\lib\\site-packages (2.4.1)\n",
      "Requirement already satisfied: geographiclib<3,>=1.52 in c:\\users\\gissi\\appdata\\local\\programs\\python\\python39\\lib\\site-packages (from geopy) (2.0)\n",
      "Note: you may need to restart the kernel to use updated packages.\n",
      "Requirement already satisfied: pycountry in c:\\users\\gissi\\appdata\\local\\programs\\python\\python39\\lib\\site-packages (23.12.11)\n",
      "Note: you may need to restart the kernel to use updated packages.\n",
      "Requirement already satisfied: datetime in c:\\users\\gissi\\appdata\\local\\programs\\python\\python39\\lib\\site-packages (5.4)\n",
      "Requirement already satisfied: zope.interface in c:\\users\\gissi\\appdata\\local\\programs\\python\\python39\\lib\\site-packages (from datetime) (6.1)\n",
      "Requirement already satisfied: pytz in c:\\users\\gissi\\appdata\\local\\programs\\python\\python39\\lib\\site-packages (from datetime) (2023.3)\n",
      "Requirement already satisfied: setuptools in c:\\users\\gissi\\appdata\\local\\programs\\python\\python39\\lib\\site-packages (from zope.interface->datetime) (49.2.1)\n",
      "Note: you may need to restart the kernel to use updated packages.\n"
     ]
    }
   ],
   "source": [
    "%pip install pandas\n",
    "%pip install geopy\n",
    "%pip install pycountry\n",
    "%pip install datetime\n",
    "\n",
    "from datetime import datetime\n",
    "import pandas as pd\n",
    "import os as os\n",
    "from geopy.geocoders import Nominatim\n",
    "from countryinfo import CountryInfo"
   ]
  },
  {
   "cell_type": "code",
   "execution_count": 3,
   "metadata": {},
   "outputs": [
    {
     "name": "stdout",
     "output_type": "stream",
     "text": [
      "Il file ../csv\\appearances.csv esiste.\n",
      "Il file ../csv\\clubs.csv esiste.\n",
      "Il file ../csv\\club_games.csv esiste.\n",
      "Il file ../csv\\competitions.csv esiste.\n",
      "Il file ../csv\\games.csv esiste.\n",
      "Il file ../csv\\game_events.csv esiste.\n",
      "Il file ../csv\\game_lineups.csv esiste.\n",
      "Il file ../csv\\players.csv esiste.\n",
      "Il file ../csv\\player_valuations.csv esiste.\n"
     ]
    }
   ],
   "source": [
    "percorso_csv = r\"../csv\"\n",
    "\n",
    "if os.path.exists(percorso_csv):\n",
    "    for file in os.listdir(percorso_csv):\n",
    "        percorso_csv_file = os.path.join(percorso_csv, file)\n",
    "        print(f\"Il file {percorso_csv_file} esiste.\")\n",
    "else:\n",
    "    print(f\"Il file {percorso_csv_file} non è stato trovato.\")"
   ]
  },
  {
   "cell_type": "code",
   "execution_count": 4,
   "metadata": {},
   "outputs": [
    {
     "name": "stderr",
     "output_type": "stream",
     "text": [
      "C:\\Users\\gissi\\AppData\\Local\\Temp\\ipykernel_19768\\1344331387.py:6: DtypeWarning: Columns (4) have mixed types. Specify dtype option on import or set low_memory=False.\n",
      "  df_game_lineups = pd.read_csv(percorso_csv + \"/game_lineups.csv\")\n"
     ]
    }
   ],
   "source": [
    "df_appearances = pd.read_csv(percorso_csv + \"/appearances.csv\")\n",
    "df_club_games = pd.read_csv(percorso_csv + \"/club_games.csv\")\n",
    "df_clubs = pd.read_csv(percorso_csv + \"/clubs.csv\")\n",
    "df_competitions = pd.read_csv(percorso_csv + \"/competitions.csv\")\n",
    "df_game_events = pd.read_csv(percorso_csv + \"/game_events.csv\")\n",
    "df_game_lineups = pd.read_csv(percorso_csv + \"/game_lineups.csv\")\n",
    "df_games = pd.read_csv(percorso_csv + \"/games.csv\")\n",
    "df_player_valuations = pd.read_csv(percorso_csv + \"/player_valuations.csv\")\n",
    "df_players = pd.read_csv(percorso_csv + \"/players.csv\")\n"
   ]
  },
  {
   "cell_type": "code",
   "execution_count": 5,
   "metadata": {},
   "outputs": [
    {
     "name": "stdout",
     "output_type": "stream",
     "text": [
      "                         game_lineups_id  game_id  club_id             type  \\\n",
      "0       3b0a25b9c76eedd7f6faaec061abf671  3606208      338  starting_lineup   \n",
      "1       cb6eeedb9f728570615d37b6fe7facaf  3606208      338  starting_lineup   \n",
      "2       ef88b1c4d61884ed8a5b2640d05a2dcd  3606208      338  starting_lineup   \n",
      "3       baa0d6827dab4fab07d8dc1604e720a7  3606208      338  starting_lineup   \n",
      "4       1715ec342bf902522b69322a036a3f29  3606208      338  starting_lineup   \n",
      "...                                  ...      ...      ...              ...   \n",
      "140315  f62e8310b6b6183961db0c3b32b94ddf  4243187      828      substitutes   \n",
      "140316  dd066717338d299138c100b5e9584364  4243187      828      substitutes   \n",
      "140317  12b990a69f1ffdab9aefa42bfda7b2e3  4243187      828      substitutes   \n",
      "140318  4b43f9ddc4689376f0d7e6151458918a  4243187      828      substitutes   \n",
      "140319  e66695a529986579822ecae6c34746d9  4243187      828      substitutes   \n",
      "\n",
      "        player_id        player_name  team_captain            position  \n",
      "0          167722  Vitaliy Buyalskyi             0  Attacking Midfield  \n",
      "1          368611  Mykola Shaparenko             0    Central Midfield  \n",
      "2          257740     Carlos de Pena             0         Left Winger  \n",
      "3          264372   Viktor Tsygankov             0        Right Winger  \n",
      "4           91931        Denys Boyko             0          Goalkeeper  \n",
      "...           ...                ...           ...                 ...  \n",
      "140315     165784     Takuya Iwanami             0         Centre-Back  \n",
      "140316     188912      Ayumi Niekawa             0          Goalkeeper  \n",
      "140317      82988      Shinzo Koroki             0      Centre-Forward  \n",
      "140318     186228        Alex Schalk             0      Centre-Forward  \n",
      "140319      82410      Bryan Linssen             0      Centre-Forward  \n",
      "\n",
      "[140320 rows x 8 columns]\n"
     ]
    }
   ],
   "source": [
    "#da game_lineups elimino la colonna number (che rappresenta i numeri di maglia) che ai fini dell'analisi è totalmente inutile\n",
    "del df_game_lineups[\"number\"]\n",
    "print(df_game_lineups)"
   ]
  },
  {
   "cell_type": "code",
   "execution_count": 6,
   "metadata": {},
   "outputs": [],
   "source": [
    "#da player posso eliminare nome e cognome che tanto esiste una colonna che li ha entrambi\n",
    "elimino = [\"first_name\", \"last_name\"]\n",
    "df_players.drop(columns = elimino, inplace = True)"
   ]
  },
  {
   "cell_type": "code",
   "execution_count": 7,
   "metadata": {},
   "outputs": [],
   "source": [
    "#nella tabella players ho visto che se c'è position c'è anche la subposition, se invece la position è Missing allora subposition è null --> risolvo mettendo missing\n",
    "for index, player in df_players.iterrows():\n",
    "    if pd.isnull(player[\"sub_position\"]):\n",
    "        df_players.at[index, \"sub_position\"] = \"Missing\"\n",
    "        \n",
    "#ottimizzazione potente\n",
    "#df_players['sub_position'] = df_players['sub_position'].fillna(\"Missing\")"
   ]
  },
  {
   "cell_type": "code",
   "execution_count": 8,
   "metadata": {},
   "outputs": [],
   "source": [
    "#tabella players dove manca foot mettiamo destro che è il più comune nella popolazione mondiale ed anche nei calciatori\n",
    "for index, player in df_players.iterrows():\n",
    "    if pd.isnull(player[\"foot\"]):\n",
    "        df_players.at[index, \"foot\"] = \"right\"\n",
    "\n",
    "#ottimizzazione potente\n",
    "#df_players['foot'] = df_players['foot'].fillna(\"right\")"
   ]
  },
  {
   "cell_type": "code",
   "execution_count": 9,
   "metadata": {},
   "outputs": [],
   "source": [
    "#tabella players dove non c'è l'altezza mettiamo la media del ruolo che ha quel giocatore\n",
    "for index, player in df_players.iterrows():\n",
    "    if pd.isnull(player[\"height_in_cm\"]):\n",
    "        df_players.at[index, \"height_in_cm\"] = df_players[\"height_in_cm\"].where(df_players[\"position\"] == player[\"position\"]).mean().round()\n",
    "        \n",
    "#ottimizzazione potente\n",
    "# Calcola la media dell'altezza per ciascun ruolo\n",
    "#media_altezza_per_ruolo = df_players.groupby('position')['height_in_cm'].mean().round()\n",
    "\n",
    "# Sostituisci i valori mancanti nella colonna 'height_in_cm' con la media del ruolo\n",
    "#df_players['height_in_cm'] = df_players['height_in_cm'].fillna(df_players['position'].map(media_altezza_per_ruolo))"
   ]
  },
  {
   "cell_type": "code",
   "execution_count": 10,
   "metadata": {},
   "outputs": [],
   "source": [
    "#tabella players per la scadenza del contratto i valori nulli li sostituisco con una data di default\n",
    "for index, player in df_players.iterrows():\n",
    "    if pd.isnull(player[\"contract_expiration_date\"]):\n",
    "        df_players.at[index, \"contract_expiration_date\"] = \"Missing\"\n",
    "        \n",
    "#ottimizzazione potente\n",
    "#df_players['contract_expiration_date'] = df_players['contract_expiration_date'].fillna(\"Missing\")"
   ]
  },
  {
   "cell_type": "code",
   "execution_count": 11,
   "metadata": {},
   "outputs": [],
   "source": [
    "#in players per il procuratore invece mettiamo sconosciuto\n",
    "for index, player in df_players.iterrows():\n",
    "    if pd.isnull(player[\"agent_name\"]):\n",
    "        df_players.at[index, \"agent_name\"] = \"Sconosciuto\"\n",
    "\n",
    "#ottimizzazione potente\n",
    "#df_players['agent_name'] = df_players['agent_name'].fillna(\"Sconosciuto\")"
   ]
  },
  {
   "cell_type": "code",
   "execution_count": 12,
   "metadata": {},
   "outputs": [],
   "source": [
    "#in players dove non c'è valore mercato lo sostituisco col valore minimo di quel ruolo poichè abbiamo visto che sono giocatori minori o ritirati\n",
    "for index, player in df_players.iterrows():\n",
    "    if pd.isnull(player[\"market_value_in_eur\"]):\n",
    "        df_players.at[index, \"market_value_in_eur\"] = df_players[\"market_value_in_eur\"].where(df_players[\"position\"] == player[\"position\"]).min()\n",
    "    if pd.isnull(player[\"highest_market_value_in_eur\"]):\n",
    "        df_players.at[index, \"highest_market_value_in_eur\"] = df_players[\"highest_market_value_in_eur\"].where(df_players[\"position\"] == player[\"position\"]).min()"
   ]
  },
  {
   "cell_type": "code",
   "execution_count": 13,
   "metadata": {},
   "outputs": [],
   "source": [
    "#in tabella players qui andiamo a riempire i null nei campi cit, country e citizenship con delle funzioni di geopy e counterinfo che ci fanno risalire allo stato/capitale dalla capitale/stato\n",
    "def da_citta_a_stato(city):\n",
    "    geolocator = Nominatim(user_agent=\"google\") #user agent can be any user agent\n",
    "    location = geolocator.geocode(city, language=\"en\", timeout=None) #specified the language as some countries are in other lanaguages\n",
    "    if location and hasattr(location, \"address\"):\n",
    "        country = location.address.split(',')[-1].strip()\n",
    "        return country\n",
    "    else:\n",
    "        return \"Sconosciuto\"\n",
    "    \n",
    "def valori_mancanti(player):\n",
    "    if pd.isnull(player[\"country_of_citizenship\"]) and pd.isnull(player[\"country_of_birth\"]) and pd.isnull(player[\"city_of_birth\"]):\n",
    "        df_players.at[index, \"country_of_birth\"] = \"Sconosciuto\"\n",
    "        df_players.at[index,\"city_of_birth\"] = \"Sconosciuto\"\n",
    "        df_players.at[index,\"country_of_citizenship\"] = \"Sconosciuto\"\n",
    "    else:\n",
    "        if pd.isnull(player[\"country_of_citizenship\"]):\n",
    "            df_players.at[index,\"country_of_citizenship\"] = \"Sconosciuto\"\n",
    "\n",
    "        if pd.isnull(player[\"country_of_birth\"]) and pd.isnull(player[\"city_of_birth\"]):\n",
    "            df_players.at[index,\"country_of_birth\"] = \"Sconosciuto\"\n",
    "            df_players.at[index,\"city_of_birth\"] = \"Sconosciuto\"\n",
    "        else:\n",
    "            if pd.isnull(player[\"country_of_birth\"]) and not pd.isnull(player[\"city_of_birth\"]):\n",
    "                df_players.at[index,\"country_of_birth\"] = da_citta_a_stato(player[\"city_of_birth\"])\n",
    "            else:\n",
    "                if pd.isnull(player[\"city_of_birth\"]) and not pd.isnull(player[\"country_of_birth\"]):\n",
    "                    df_players.at[index,\"city_of_birth\"] = CountryInfo(player[\"country_of_birth\"]).capital()\n",
    "\n",
    "for index, player in df_players.iterrows():\n",
    "    valori_mancanti(player)"
   ]
  },
  {
   "cell_type": "code",
   "execution_count": 14,
   "metadata": {},
   "outputs": [],
   "source": [
    "#tabella games risolviamo la mancanza della posizione in classifica mettendo la mediana E' DA VALUTARE POICHè MANCA IL 30% DEI DATI\n",
    "mediana = df_games[\"home_club_position\"].median()\n",
    "\n",
    "for index, game in df_games.iterrows():\n",
    "    if pd.isnull(game[\"home_club_position\"]):\n",
    "        df_games.at[index, \"home_club_position\"] = mediana\n",
    "    if pd.isnull(game[\"away_club_position\"]):\n",
    "        df_games.at[index, \"away_club_position\"] = mediana\n",
    "\n",
    "#ottimizzazione potente\n",
    "#df_games['home_club_position'] = df_games['home_club_position'].fillna(mediana)\n",
    "#df_games['away_club_position'] = df_games['away_club_position'].fillna(mediana)"
   ]
  },
  {
   "cell_type": "code",
   "execution_count": 15,
   "metadata": {},
   "outputs": [],
   "source": [
    "#in games risolviamo mancanza spettatori mettendo la media di tutte le partite\n",
    "media = df_games[\"attendance\"].mean().round()\n",
    "\n",
    "for index, game in df_games.iterrows():\n",
    "    if pd.isnull(game[\"attendance\"]):\n",
    "        df_games.at[index, \"attendance\"] = media\n",
    "\n",
    "#ottimizzazione potente\n",
    "#df_games['attendance'] = df_games['attendance'].fillna(df_games['attendance'].mean().round())"
   ]
  },
  {
   "cell_type": "code",
   "execution_count": 16,
   "metadata": {},
   "outputs": [],
   "source": [
    "#in games quando arbitro non c'è metto sconosciuto\n",
    "\n",
    "for index, game in df_games.iterrows():\n",
    "    if pd.isnull(game[\"referee\"]):\n",
    "        df_games.at[index, \"referee\"] = \"Sconosciuto\"\n",
    "\n",
    "#ottimizzazione potente\n",
    "#df_games['referee'] = df_games['referee'].fillna(\"Sconosciuto\")"
   ]
  },
  {
   "cell_type": "code",
   "execution_count": 17,
   "metadata": {},
   "outputs": [],
   "source": [
    "#elimino le colonne home/away formation perchè manca nel 95% TABELLA: games\n",
    "cancella = [\"home_club_formation\", \"away_club_formation\"]\n",
    "df_games.drop(columns = cancella, inplace = True)"
   ]
  },
  {
   "cell_type": "code",
   "execution_count": 18,
   "metadata": {},
   "outputs": [],
   "source": [
    "#se non ci sta il nome dei club su TABELLA: game vuol dire che manca l'id in TABELLA: club (vincolo non rispettato) per cui elimino la riga\n",
    "for index, game in df_games.iterrows():\n",
    "    if pd.isnull(game[\"home_club_name\"]) or pd.isnull(game[\"away_club_name\"]):\n",
    "        df_games.drop(index, inplace=True)\n",
    "        \n",
    "#OTTIMIZZAZIONE POTENTE\n",
    "#df_games = df_games.loc[~df_games[['home_club_name', 'away_club_name']].isnull().any(axis=1)]"
   ]
  },
  {
   "cell_type": "code",
   "execution_count": 19,
   "metadata": {},
   "outputs": [],
   "source": [
    "#tabella games se manca allenatore metto sconosciuto\n",
    "for index, game in df_games.iterrows():\n",
    "    if pd.isnull(game[\"home_club_manager_name\"]):\n",
    "        df_games.at[index, \"home_club_manager_name\"] = \"Sconosciuto\"\n",
    "    if pd.isnull(game[\"away_club_manager_name\"]):\n",
    "        df_games.at[index, \"away_club_manager_name\"] = \"Sconosciuto\""
   ]
  },
  {
   "cell_type": "code",
   "execution_count": 20,
   "metadata": {},
   "outputs": [],
   "source": [
    "#nella tabella GAME_EVENTS inserisco i valori mancanti nel player_in_id\n",
    "for index, game_e in df_game_events.iterrows():\n",
    "    if pd.isnull(game_e[\"player_in_id\"]):\n",
    "        df_game_events.at[index, \"player_in_id\"] = 0\n",
    "        \n",
    "#ottimizzazione potente\n",
    "#df_game_events['player_in_id'] = df_game_events['player_in_id'].fillna(0)"
   ]
  },
  {
   "cell_type": "code",
   "execution_count": 21,
   "metadata": {},
   "outputs": [],
   "source": [
    "#nella tabella GAME_EVENTS inserisco i valori mancanti nel player_assist_id\n",
    "for index, game_e in df_game_events.iterrows():\n",
    "    if pd.isnull(game_e[\"player_assist_id\"]):\n",
    "        df_game_events.at[index, \"player_assist_id\"] = 0\n",
    "        \n",
    "#ottimizzazione potente\n",
    "#df_game_events['player_assist_id'] = df_game_events['player_assist_id'].fillna(0)\n",
    " \n",
    "#conversione degli id in interi\n",
    "df_game_events['player_in_id'] = df_game_events['player_in_id'].astype(int)\n",
    "df_game_events['player_assist_id'] = df_game_events['player_assist_id'].astype(int)\n",
    "df_game_events[\"date\"] = pd.to_datetime(df_game_events[\"date\"])\n",
    "df_game_events = df_game_events[df_game_events['game_id'].isin(df_games['game_id'])]"
   ]
  },
  {
   "cell_type": "code",
   "execution_count": 22,
   "metadata": {},
   "outputs": [],
   "source": [
    "#CONTROLLO SE GLI ID DEI CLUB SU CLUB_GAMES CI SONO IN CLUB ALTRIMENTI LI ESCLUDO\n",
    "# Ottenere i 'club_id' di df_club_games solo quando 'own_manager_name' ha valori nulli\n",
    "valori_colonna1_con_null = df_club_games.loc[df_club_games['own_manager_name'].isnull(), 'club_id']\n",
    "valori_colonna2_con_null = df_club_games.loc[df_club_games['opponent_manager_name'].isnull(), 'club_id']\n",
    " \n",
    "# Verificare se i 'club_id' ottenuti sono presenti in 'df_clubs'\n",
    "valori_presenti_in_df2 = valori_colonna1_con_null.isin(df_clubs['club_id'])\n",
    "valori_presenti_in_df22 = valori_colonna2_con_null.isin(df_clubs['club_id'])\n",
    " \n",
    "valori_false = valori_colonna1_con_null[~valori_presenti_in_df2]\n",
    "valori_false2 = valori_colonna2_con_null[~valori_presenti_in_df22]\n",
    " \n",
    "# Itera attraverso gli elementi (indice, valore) di valori_false\n",
    "rows_to_drop = set()  # Utilizziamo un set per evitare duplicati\n",
    " \n",
    "for index, c_game in df_club_games.iterrows():\n",
    "    for indice, valore in valori_false.items():\n",
    "        if c_game[\"club_id\"] == indice:\n",
    "            rows_to_drop.add(index)\n",
    " \n",
    "    for indice2, valore2 in valori_false2.items():\n",
    "        if c_game[\"club_id\"] == indice2:\n",
    "            rows_to_drop.add(index)\n",
    " \n",
    "# Converti il set in una lista\n",
    "rows_to_drop = list(rows_to_drop)\n",
    " \n",
    "# Elimina le righe dopo aver completato il ciclo annidato\n",
    "df_club_games.drop(rows_to_drop, inplace=True)"
   ]
  },
  {
   "cell_type": "code",
   "execution_count": 23,
   "metadata": {},
   "outputs": [],
   "source": [
    "#VADO A PRENDERE I NOMI DEGLI ALLENATORI DA GAMES E LI METTO IN CLUB_GAMES PER LE SQUADRE\n",
    "for index, club_g in df_club_games.iterrows():\n",
    "    if (pd.isnull(club_g['own_manager_name']) and pd.isnull(club_g['opponent_manager_name'])):\n",
    "        game_id = club_g['game_id']\n",
    "        club_id = club_g['club_id']\n",
    "        manager_info = df_games[df_games['game_id'] == game_id]\n",
    "        if not manager_info.empty:\n",
    "            club_info = df_games[df_games['home_club_id'] == club_id]\n",
    "            club_info_2 = df_games[df_games['away_club_id'] == club_id]\n",
    "            if not club_info.empty:\n",
    "                df_club_games.at[index, 'own_manager_name'] = manager_info.iloc[0]['home_club_manager_name']\n",
    "            if not club_info_2.empty:\n",
    "                df_club_games.at[index, 'opponent_manager_name'] = manager_info.iloc[0]['away_club_manager_name']\n",
    "            else:\n",
    "                print(\"No match found for club_id in home_club_id or away_club_id\")\n",
    "        else:\n",
    "            df_club_games.drop(index, inplace=True)\n",
    "    elif (pd.isnull(club_g['own_manager_name']) or pd.isnull(club_g['opponent_manager_name'])):\n",
    "        game_id = club_g['game_id']\n",
    "        club_id = club_g['club_id']\n",
    "        manager_info = df_games[df_games['game_id'] == game_id]\n",
    "        if not manager_info.empty:\n",
    "            club_info = df_games[df_games['home_club_id'] == club_id]\n",
    "            if not club_info.empty:\n",
    "                df_club_games.at[index, 'own_manager_name'] = manager_info.iloc[0]['home_club_manager_name']\n",
    "            else:\n",
    "                club_info_2 = df_games[df_games['away_club_id'] == club_id]\n",
    "                if not club_info_2.empty:\n",
    "                    df_club_games.at[index, 'opponent_manager_name'] = manager_info.iloc[0]['away_club_manager_name']\n",
    "                else:\n",
    "                    print(\"No match found for club_id in home_club_id or away_club_id\")\n",
    "        else:\n",
    "            df_club_games.drop(index, inplace=True)"
   ]
  },
  {
   "cell_type": "code",
   "execution_count": 24,
   "metadata": {},
   "outputs": [],
   "source": [
    "#VADO A PRENDERE LE POSIZIONI DELLE SQUADRE DA GAMES E LI METTO IN CLUB_GAMES\n",
    "for index, club_g in df_club_games.iterrows():\n",
    "    if (pd.isnull(club_g['own_position']) and pd.isnull(club_g['opponent_position'])):\n",
    "        game_id = club_g['game_id']\n",
    "        club_id = club_g['club_id']\n",
    "        manager_info = df_games[df_games['game_id'] == game_id]\n",
    "        if not manager_info.empty:\n",
    "            club_info = df_games[df_games['home_club_id'] == club_id]\n",
    "            club_info_2 = df_games[df_games['away_club_id'] == club_id]\n",
    "            if not club_info.empty:\n",
    "                df_club_games.at[index, 'own_position'] = manager_info.iloc[0]['home_club_position']\n",
    "            if not club_info_2.empty:\n",
    "                df_club_games.at[index, 'opponent_position'] = manager_info.iloc[0]['away_club_position']\n",
    "            else:\n",
    "                print(\"No match found for club_id in home_club_id or away_club_id\")\n",
    "        else:\n",
    "            df_club_games.drop(index, inplace=True)\n",
    "    elif (pd.isnull(club_g['own_manager_name']) or pd.isnull(club_g['opponent_manager_name'])):\n",
    "        game_id = club_g['game_id']\n",
    "        club_id = club_g['club_id']\n",
    "        manager_info = df_games[df_games['game_id'] == game_id]\n",
    "        if not manager_info.empty:\n",
    "            club_info = df_games[df_games['home_club_id'] == club_id]\n",
    "            if not club_info.empty:\n",
    "                df_club_games.at[index, 'own_position'] = manager_info.iloc[0]['home_club_position']\n",
    "            else:\n",
    "                club_info_2 = df_games[df_games['away_club_id'] == club_id]\n",
    "                if not club_info_2.empty:\n",
    "                    df_club_games.at[index, 'opponent_position'] = manager_info.iloc[0]['away_club_position']\n",
    "                else:\n",
    "                    print(\"No match found for club_id in home_club_id or away_club_id\")\n",
    "        else:\n",
    "            df_club_games.drop(index, inplace=True)"
   ]
  },
  {
   "cell_type": "code",
   "execution_count": 25,
   "metadata": {},
   "outputs": [],
   "source": [
    "#INSERISCO I NOMI DEGLI ALLENATORI NELLA TABELLA CLUB PRENDENDOLI DA GAME\n",
    "for index, club in df_clubs.iterrows():\n",
    "    if (pd.isnull(club['coach_name'])):\n",
    "        club_id = club['club_id']\n",
    "        manager_info = df_games[df_games['home_club_id'] == club_id]\n",
    "        if not manager_info.empty:\n",
    "            club_info = df_games[df_games['home_club_id'] == club_id]\n",
    "            if not club_info.empty:\n",
    "                df_clubs.at[index, 'coach_name'] = manager_info.iloc[0]['home_club_manager_name']"
   ]
  },
  {
   "cell_type": "code",
   "execution_count": 26,
   "metadata": {},
   "outputs": [],
   "source": [
    "#dove manca average_age nella tabella CLUB mettiamo la media che è 25.7\n",
    "for index, club in df_clubs.iterrows():\n",
    "    if pd.isnull(club[\"average_age\"]):\n",
    "        df_clubs.at[index, \"average_age\"] = 25.7\n",
    "        \n",
    "#ottimizzazione pesante\n",
    "#df_clubs['average_age'] = df_clubs['average_age'].fillna(25.7)"
   ]
  },
  {
   "cell_type": "code",
   "execution_count": 27,
   "metadata": {},
   "outputs": [],
   "source": [
    "#da CLUBS posso eliminare la percentuale e il numero di stranieri e il valore totale della squadra perché inutile\n",
    "elimino = [\"foreigners_number\", \"foreigners_percentage\", \"total_market_value\"]\n",
    "df_clubs.drop(columns = elimino, inplace = True)"
   ]
  },
  {
   "cell_type": "code",
   "execution_count": 28,
   "metadata": {},
   "outputs": [],
   "source": [
    "#dove manca contry_name nella tabella COMPETITION mettiamo Europa\n",
    "for index, competition in df_competitions.iterrows():\n",
    "    if pd.isnull(competition[\"country_name\"]):\n",
    "        df_competitions.at[index, \"country_name\"] = \"Europe\"\n",
    "        \n",
    "#ottimizzazione pesante\n",
    "#df_competitions['country_name'] = df_competitions['country_name'].fillna(\"Europe\")"
   ]
  },
  {
   "cell_type": "code",
   "execution_count": 29,
   "metadata": {},
   "outputs": [],
   "source": [
    "#dove manca domestic_league_code nella tabella COMPETITION mettiamo EU\n",
    "for index, competition in df_competitions.iterrows():\n",
    "    if pd.isnull(competition[\"domestic_league_code\"]):\n",
    "        df_competitions.at[index, \"domestic_league_code\"] = \"EU\"\n",
    "        \n",
    "#ottimizzazione pesante\n",
    "#df_competitions['domestic_league_code'] = df_competitions['domestic_league_code'].fillna(\"EU\")"
   ]
  },
  {
   "cell_type": "code",
   "execution_count": 30,
   "metadata": {},
   "outputs": [],
   "source": [
    "#Quando non c'è il player_name in APPEARANCES elimino la riga perché tanto il player non ci sta nella tab player\n",
    "for index, app in df_appearances.iterrows():\n",
    "    if pd.isnull(app[\"player_name\"]):\n",
    "        df_appearances.drop(index, inplace=True)\n",
    "        \n",
    "#ottimizzazione pesante\n",
    "#df_appearances = df_appearances.dropna(subset=['player_name'])"
   ]
  },
  {
   "cell_type": "code",
   "execution_count": 31,
   "metadata": {},
   "outputs": [],
   "source": [
    "#creo i csv a fine etl\n",
    "df_players.to_csv('../csv_post_etl/players_post.csv', index=False)\n",
    "df_games.to_csv('../csv_post_etl/games_post.csv', index=False)\n",
    "df_game_lineups.to_csv('../csv_post_etl/game_lineups_post.csv', index=False)\n",
    "df_appearances.to_csv('../csv_post_etl/appearances_post.csv', index=False)\n",
    "df_club_games.to_csv('../csv_post_etl/club_games_post.csv', index=False)\n",
    "df_clubs.to_csv('../csv_post_etl/clubs_post.csv', index=False)\n",
    "df_game_events.to_csv('../csv_post_etl/game_events_post.csv', index=False)\n",
    "df_player_valuations.to_csv('../csv_post_etl/player_valuations_post.csv', index=False)\n",
    "df_competitions.to_csv('../csv_post_etl/competitions_post.csv', index=False)"
   ]
  }
 ],
 "metadata": {
  "kernelspec": {
   "display_name": "Python 3",
   "language": "python",
   "name": "python3"
  },
  "language_info": {
   "codemirror_mode": {
    "name": "ipython",
    "version": 3
   },
   "file_extension": ".py",
   "mimetype": "text/x-python",
   "name": "python",
   "nbconvert_exporter": "python",
   "pygments_lexer": "ipython3",
   "version": "3.9.2"
  }
 },
 "nbformat": 4,
 "nbformat_minor": 2
}
